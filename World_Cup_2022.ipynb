{
 "cells": [
  {
   "cell_type": "code",
   "execution_count": 37,
   "id": "ea90e852-ccfc-4485-a792-23b68fac7f31",
   "metadata": {},
   "outputs": [],
   "source": [
    "import pandas as pd\n",
    "import numpy as np"
   ]
  },
  {
   "cell_type": "code",
   "execution_count": 38,
   "id": "45579bef-4684-45f1-ace2-a14a815369f0",
   "metadata": {},
   "outputs": [],
   "source": [
    "#importing data visualization libraries\n",
    "import matplotlib.pyplot as plt\n",
    "import seaborn as sns\n",
    "import warnings\n",
    "warnings.filterwarnings(\"ignore\") "
   ]
  },
  {
   "cell_type": "code",
   "execution_count": 39,
   "id": "6f183c29-8bbd-409f-9f8c-4710bceb27ae",
   "metadata": {},
   "outputs": [],
   "source": [
    "#World Cup 2022 Data From https://www.kaggle.com/datasets/die9origephit/fifa-world-cup-2022-complete-dataset\n",
    "world_cup_df = pd.read_csv('Fifa_world_cup_matches.csv')"
   ]
  },
  {
   "cell_type": "code",
   "execution_count": null,
   "id": "90c55d83-a15c-4b65-b69b-c0a5e7c930ba",
   "metadata": {},
   "outputs": [],
   "source": [
    "world_cup_df.info()"
   ]
  },
  {
   "cell_type": "code",
   "execution_count": 41,
   "id": "4aa58ff2-2429-4910-bce8-93f729ea2220",
   "metadata": {},
   "outputs": [],
   "source": [
    "#higher possesion makes more goal then other team hypothesis check"
   ]
  },
  {
   "cell_type": "code",
   "execution_count": 42,
   "id": "09e40b53-72eb-4517-8c07-fdff27e8b12c",
   "metadata": {},
   "outputs": [
    {
     "data": {
      "text/html": [
       "<div>\n",
       "<style scoped>\n",
       "    .dataframe tbody tr th:only-of-type {\n",
       "        vertical-align: middle;\n",
       "    }\n",
       "\n",
       "    .dataframe tbody tr th {\n",
       "        vertical-align: top;\n",
       "    }\n",
       "\n",
       "    .dataframe thead th {\n",
       "        text-align: right;\n",
       "    }\n",
       "</style>\n",
       "<table border=\"1\" class=\"dataframe\">\n",
       "  <thead>\n",
       "    <tr style=\"text-align: right;\">\n",
       "      <th></th>\n",
       "      <th>team1</th>\n",
       "      <th>team2</th>\n",
       "      <th>possession team1</th>\n",
       "      <th>possession team2</th>\n",
       "      <th>possession in contest</th>\n",
       "      <th>number of goals team1</th>\n",
       "      <th>number of goals team2</th>\n",
       "    </tr>\n",
       "  </thead>\n",
       "  <tbody>\n",
       "    <tr>\n",
       "      <th>0</th>\n",
       "      <td>QATAR</td>\n",
       "      <td>ECUADOR</td>\n",
       "      <td>42.0</td>\n",
       "      <td>50.0</td>\n",
       "      <td>8.0</td>\n",
       "      <td>0</td>\n",
       "      <td>2</td>\n",
       "    </tr>\n",
       "    <tr>\n",
       "      <th>1</th>\n",
       "      <td>ENGLAND</td>\n",
       "      <td>IRAN</td>\n",
       "      <td>72.0</td>\n",
       "      <td>19.0</td>\n",
       "      <td>9.0</td>\n",
       "      <td>6</td>\n",
       "      <td>2</td>\n",
       "    </tr>\n",
       "    <tr>\n",
       "      <th>2</th>\n",
       "      <td>SENEGAL</td>\n",
       "      <td>NETHERLANDS</td>\n",
       "      <td>44.0</td>\n",
       "      <td>45.0</td>\n",
       "      <td>11.0</td>\n",
       "      <td>0</td>\n",
       "      <td>2</td>\n",
       "    </tr>\n",
       "    <tr>\n",
       "      <th>3</th>\n",
       "      <td>UNITED STATES</td>\n",
       "      <td>WALES</td>\n",
       "      <td>51.0</td>\n",
       "      <td>39.0</td>\n",
       "      <td>10.0</td>\n",
       "      <td>1</td>\n",
       "      <td>1</td>\n",
       "    </tr>\n",
       "    <tr>\n",
       "      <th>4</th>\n",
       "      <td>ARGENTINA</td>\n",
       "      <td>SAUDI ARABIA</td>\n",
       "      <td>64.0</td>\n",
       "      <td>24.0</td>\n",
       "      <td>12.0</td>\n",
       "      <td>1</td>\n",
       "      <td>2</td>\n",
       "    </tr>\n",
       "  </tbody>\n",
       "</table>\n",
       "</div>"
      ],
      "text/plain": [
       "           team1         team2  possession team1  possession team2  \\\n",
       "0          QATAR       ECUADOR              42.0              50.0   \n",
       "1        ENGLAND          IRAN              72.0              19.0   \n",
       "2        SENEGAL   NETHERLANDS              44.0              45.0   \n",
       "3  UNITED STATES         WALES              51.0              39.0   \n",
       "4      ARGENTINA  SAUDI ARABIA              64.0              24.0   \n",
       "\n",
       "   possession in contest  number of goals team1  number of goals team2  \n",
       "0                    8.0                      0                      2  \n",
       "1                    9.0                      6                      2  \n",
       "2                   11.0                      0                      2  \n",
       "3                   10.0                      1                      1  \n",
       "4                   12.0                      1                      2  "
      ]
     },
     "execution_count": 42,
     "metadata": {},
     "output_type": "execute_result"
    }
   ],
   "source": [
    "#Extracting only needed columns from original dataframe, and converting percentages from objects to float\n",
    "world_cup_df_possession = world_cup_df.iloc[:,0:7]\n",
    "world_cup_df_possession[\"possession team1\"] = world_cup_df_possession[\"possession team1\"] .str.replace('%','')\n",
    "world_cup_df_possession[\"possession team2\"] = world_cup_df_possession[\"possession team2\"] .str.replace('%','')\n",
    "world_cup_df_possession[\"possession in contest\"] = world_cup_df_possession[\"possession in contest\"] .str.replace('%','')\n",
    "world_cup_df_possession[\"possession team1\"] = world_cup_df_possession[\"possession team1\"].astype(\"float64\")\n",
    "world_cup_df_possession[\"possession team2\"] = world_cup_df_possession[\"possession team2\"].astype(\"float64\")\n",
    "world_cup_df_possession[\"possession in contest\"] = world_cup_df_possession[\"possession in contest\"].astype(\"float64\")\n",
    "world_cup_df_possession.head()"
   ]
  },
  {
   "cell_type": "code",
   "execution_count": 64,
   "id": "1ea60932-6e8d-41ff-818f-3112cb997058",
   "metadata": {},
   "outputs": [
    {
     "data": {
      "text/html": [
       "<div>\n",
       "<style scoped>\n",
       "    .dataframe tbody tr th:only-of-type {\n",
       "        vertical-align: middle;\n",
       "    }\n",
       "\n",
       "    .dataframe tbody tr th {\n",
       "        vertical-align: top;\n",
       "    }\n",
       "\n",
       "    .dataframe thead th {\n",
       "        text-align: right;\n",
       "    }\n",
       "</style>\n",
       "<table border=\"1\" class=\"dataframe\">\n",
       "  <thead>\n",
       "    <tr style=\"text-align: right;\">\n",
       "      <th></th>\n",
       "      <th>team1</th>\n",
       "      <th>team2</th>\n",
       "      <th>possession team1</th>\n",
       "      <th>possession team2</th>\n",
       "      <th>possession in contest</th>\n",
       "      <th>number of goals team1</th>\n",
       "      <th>number of goals team2</th>\n",
       "      <th>result</th>\n",
       "      <th>total goals</th>\n",
       "    </tr>\n",
       "  </thead>\n",
       "  <tbody>\n",
       "    <tr>\n",
       "      <th>0</th>\n",
       "      <td>QATAR</td>\n",
       "      <td>ECUADOR</td>\n",
       "      <td>42.0</td>\n",
       "      <td>50.0</td>\n",
       "      <td>8.0</td>\n",
       "      <td>0</td>\n",
       "      <td>2</td>\n",
       "      <td>2</td>\n",
       "      <td>2</td>\n",
       "    </tr>\n",
       "    <tr>\n",
       "      <th>1</th>\n",
       "      <td>ENGLAND</td>\n",
       "      <td>IRAN</td>\n",
       "      <td>72.0</td>\n",
       "      <td>19.0</td>\n",
       "      <td>9.0</td>\n",
       "      <td>6</td>\n",
       "      <td>2</td>\n",
       "      <td>0</td>\n",
       "      <td>8</td>\n",
       "    </tr>\n",
       "    <tr>\n",
       "      <th>2</th>\n",
       "      <td>SENEGAL</td>\n",
       "      <td>NETHERLANDS</td>\n",
       "      <td>44.0</td>\n",
       "      <td>45.0</td>\n",
       "      <td>11.0</td>\n",
       "      <td>0</td>\n",
       "      <td>2</td>\n",
       "      <td>2</td>\n",
       "      <td>2</td>\n",
       "    </tr>\n",
       "    <tr>\n",
       "      <th>3</th>\n",
       "      <td>UNITED STATES</td>\n",
       "      <td>WALES</td>\n",
       "      <td>51.0</td>\n",
       "      <td>39.0</td>\n",
       "      <td>10.0</td>\n",
       "      <td>1</td>\n",
       "      <td>1</td>\n",
       "      <td>1</td>\n",
       "      <td>2</td>\n",
       "    </tr>\n",
       "    <tr>\n",
       "      <th>4</th>\n",
       "      <td>ARGENTINA</td>\n",
       "      <td>SAUDI ARABIA</td>\n",
       "      <td>64.0</td>\n",
       "      <td>24.0</td>\n",
       "      <td>12.0</td>\n",
       "      <td>1</td>\n",
       "      <td>2</td>\n",
       "      <td>2</td>\n",
       "      <td>3</td>\n",
       "    </tr>\n",
       "  </tbody>\n",
       "</table>\n",
       "</div>"
      ],
      "text/plain": [
       "           team1         team2  possession team1  possession team2  \\\n",
       "0          QATAR       ECUADOR              42.0              50.0   \n",
       "1        ENGLAND          IRAN              72.0              19.0   \n",
       "2        SENEGAL   NETHERLANDS              44.0              45.0   \n",
       "3  UNITED STATES         WALES              51.0              39.0   \n",
       "4      ARGENTINA  SAUDI ARABIA              64.0              24.0   \n",
       "\n",
       "   possession in contest  number of goals team1  number of goals team2  \\\n",
       "0                    8.0                      0                      2   \n",
       "1                    9.0                      6                      2   \n",
       "2                   11.0                      0                      2   \n",
       "3                   10.0                      1                      1   \n",
       "4                   12.0                      1                      2   \n",
       "\n",
       "   result  total goals  \n",
       "0       2            2  \n",
       "1       0            8  \n",
       "2       2            2  \n",
       "3       1            2  \n",
       "4       2            3  "
      ]
     },
     "execution_count": 64,
     "metadata": {},
     "output_type": "execute_result"
    }
   ],
   "source": [
    "#Adding total goals scored in each game\n",
    "world_cup_df_possession[\"total goals\"] = world_cup_df_possession[\"number of goals team1\"] + world_cup_df_possession[\"number of goals team2\"]\n",
    "world_cup_df_possession.head()  "
   ]
  },
  {
   "cell_type": "code",
   "execution_count": 43,
   "id": "f73b9af7-3cf9-414f-ae1e-288a47ff3122",
   "metadata": {},
   "outputs": [
    {
     "data": {
      "text/html": [
       "<div>\n",
       "<style scoped>\n",
       "    .dataframe tbody tr th:only-of-type {\n",
       "        vertical-align: middle;\n",
       "    }\n",
       "\n",
       "    .dataframe tbody tr th {\n",
       "        vertical-align: top;\n",
       "    }\n",
       "\n",
       "    .dataframe thead th {\n",
       "        text-align: right;\n",
       "    }\n",
       "</style>\n",
       "<table border=\"1\" class=\"dataframe\">\n",
       "  <thead>\n",
       "    <tr style=\"text-align: right;\">\n",
       "      <th></th>\n",
       "      <th>team1</th>\n",
       "      <th>team2</th>\n",
       "      <th>possession team1</th>\n",
       "      <th>possession team2</th>\n",
       "      <th>possession in contest</th>\n",
       "      <th>number of goals team1</th>\n",
       "      <th>number of goals team2</th>\n",
       "      <th>result</th>\n",
       "    </tr>\n",
       "  </thead>\n",
       "  <tbody>\n",
       "    <tr>\n",
       "      <th>0</th>\n",
       "      <td>QATAR</td>\n",
       "      <td>ECUADOR</td>\n",
       "      <td>42.0</td>\n",
       "      <td>50.0</td>\n",
       "      <td>8.0</td>\n",
       "      <td>0</td>\n",
       "      <td>2</td>\n",
       "      <td>2</td>\n",
       "    </tr>\n",
       "    <tr>\n",
       "      <th>1</th>\n",
       "      <td>ENGLAND</td>\n",
       "      <td>IRAN</td>\n",
       "      <td>72.0</td>\n",
       "      <td>19.0</td>\n",
       "      <td>9.0</td>\n",
       "      <td>6</td>\n",
       "      <td>2</td>\n",
       "      <td>0</td>\n",
       "    </tr>\n",
       "    <tr>\n",
       "      <th>2</th>\n",
       "      <td>SENEGAL</td>\n",
       "      <td>NETHERLANDS</td>\n",
       "      <td>44.0</td>\n",
       "      <td>45.0</td>\n",
       "      <td>11.0</td>\n",
       "      <td>0</td>\n",
       "      <td>2</td>\n",
       "      <td>2</td>\n",
       "    </tr>\n",
       "    <tr>\n",
       "      <th>3</th>\n",
       "      <td>UNITED STATES</td>\n",
       "      <td>WALES</td>\n",
       "      <td>51.0</td>\n",
       "      <td>39.0</td>\n",
       "      <td>10.0</td>\n",
       "      <td>1</td>\n",
       "      <td>1</td>\n",
       "      <td>1</td>\n",
       "    </tr>\n",
       "    <tr>\n",
       "      <th>4</th>\n",
       "      <td>ARGENTINA</td>\n",
       "      <td>SAUDI ARABIA</td>\n",
       "      <td>64.0</td>\n",
       "      <td>24.0</td>\n",
       "      <td>12.0</td>\n",
       "      <td>1</td>\n",
       "      <td>2</td>\n",
       "      <td>2</td>\n",
       "    </tr>\n",
       "  </tbody>\n",
       "</table>\n",
       "</div>"
      ],
      "text/plain": [
       "           team1         team2  possession team1  possession team2  \\\n",
       "0          QATAR       ECUADOR              42.0              50.0   \n",
       "1        ENGLAND          IRAN              72.0              19.0   \n",
       "2        SENEGAL   NETHERLANDS              44.0              45.0   \n",
       "3  UNITED STATES         WALES              51.0              39.0   \n",
       "4      ARGENTINA  SAUDI ARABIA              64.0              24.0   \n",
       "\n",
       "   possession in contest  number of goals team1  number of goals team2  result  \n",
       "0                    8.0                      0                      2       2  \n",
       "1                    9.0                      6                      2       0  \n",
       "2                   11.0                      0                      2       2  \n",
       "3                   10.0                      1                      1       1  \n",
       "4                   12.0                      1                      2       2  "
      ]
     },
     "execution_count": 43,
     "metadata": {},
     "output_type": "execute_result"
    }
   ],
   "source": [
    "#Adding game result column as new column\n",
    "world_cup_df_possession[\"result\"] = np.where(world_cup_df_possession[\"number of goals team1\"] > world_cup_df_possession[\"number of goals team2\"], 0, np.where(world_cup_df_possession[\"number of goals team1\"] == world_cup_df_possession[\"number of goals team2\"], 1, 2))\n",
    "world_cup_df_possession.head()  "
   ]
  },
  {
   "cell_type": "code",
   "execution_count": 65,
   "id": "81a3f3ff-3ff9-45dc-9772-e97f3dbe948d",
   "metadata": {},
   "outputs": [
    {
     "name": "stdout",
     "output_type": "stream",
     "text": [
      "<class 'pandas.core.frame.DataFrame'>\n",
      "RangeIndex: 64 entries, 0 to 63\n",
      "Data columns (total 9 columns):\n",
      " #   Column                 Non-Null Count  Dtype  \n",
      "---  ------                 --------------  -----  \n",
      " 0   team1                  64 non-null     object \n",
      " 1   team2                  64 non-null     object \n",
      " 2   possession team1       64 non-null     float64\n",
      " 3   possession team2       64 non-null     float64\n",
      " 4   possession in contest  64 non-null     float64\n",
      " 5   number of goals team1  64 non-null     int64  \n",
      " 6   number of goals team2  64 non-null     int64  \n",
      " 7   result                 64 non-null     int32  \n",
      " 8   total goals            64 non-null     int64  \n",
      "dtypes: float64(3), int32(1), int64(3), object(2)\n",
      "memory usage: 4.4+ KB\n"
     ]
    }
   ],
   "source": [
    "world_cup_df_possession.info()"
   ]
  },
  {
   "cell_type": "code",
   "execution_count": 78,
   "id": "0509039f-a80d-455b-a59f-52769dbdf838",
   "metadata": {},
   "outputs": [
    {
     "data": {
      "text/plain": [
       "<Figure size 800x1800 with 0 Axes>"
      ]
     },
     "metadata": {},
     "output_type": "display_data"
    },
    {
     "data": {
      "image/png": "[encoded data removed]",
      "text/plain": [
       "<Figure size 640x480 with 2 Axes>"
      ]
     },
     "metadata": {},
     "output_type": "display_data"
    }
   ],
   "source": [
    "#Distrubition of possesions\n",
    "plt.figure(figsize=(8,18))\n",
    "figure, axis = plt.subplots(1, 2)\n",
    "sns.histplot(world_cup_df_possession[\"possession team1\"], kde=False, ax=axis[0])\n",
    "sns.histplot(world_cup_df_possession[\"possession team2\"], kde=False, ax=axis[1])\n",
    "plt.show()"
   ]
  },
  {
   "cell_type": "markdown",
   "id": "20dec765-97d1-4930-b373-345081ab75bd",
   "metadata": {
    "jp-MarkdownHeadingCollapsed": true,
    "tags": []
   },
   "source": [
    "### Deep dive for outliers"
   ]
  },
  {
   "cell_type": "code",
   "execution_count": 46,
   "id": "50431bc6-ea1f-4c97-91f5-7216f4b9c1b6",
   "metadata": {},
   "outputs": [
    {
     "data": {
      "image/png": "[encoded data removed]",
      "text/plain": [
       "<Figure size 640x480 with 1 Axes>"
      ]
     },
     "metadata": {},
     "output_type": "display_data"
    }
   ],
   "source": [
    "plt.boxplot(world_cup_df_possession[\"possession team1\"])\n",
    "plt.show()"
   ]
  },
  {
   "cell_type": "markdown",
   "id": "bdd04003-d9e0-4e73-8400-aebda564a7b8",
   "metadata": {},
   "source": [
    "Looks like there is no outlier for Team1!"
   ]
  },
  {
   "cell_type": "code",
   "execution_count": 47,
   "id": "138ed62d-3fec-4e8b-9649-e27cd034e7c6",
   "metadata": {},
   "outputs": [
    {
     "data": {
      "image/png": "[encoded data removed]",
      "text/plain": [
       "<Figure size 640x480 with 1 Axes>"
      ]
     },
     "metadata": {},
     "output_type": "display_data"
    }
   ],
   "source": [
    "plt.boxplot(world_cup_df_possession[\"possession team2\"])\n",
    "plt.show()"
   ]
  },
  {
   "cell_type": "markdown",
   "id": "1ea96bc5-e037-4865-8c4a-b8dbca1193e1",
   "metadata": {},
   "source": [
    "Looks like there is an outlier value for Team2. Let's look deep dive for team 2."
   ]
  },
  {
   "cell_type": "code",
   "execution_count": 48,
   "id": "d5a03442-02e7-4f67-8585-e4912eeb8419",
   "metadata": {},
   "outputs": [],
   "source": [
    "#importing zscore from scipy library\n",
    "from scipy.stats import zscore\n",
    "import scipy.stats as stats"
   ]
  },
  {
   "cell_type": "code",
   "execution_count": 55,
   "id": "3c922a05-d9ed-4803-92d2-a0cd1082127c",
   "metadata": {},
   "outputs": [
    {
     "name": "stdout",
     "output_type": "stream",
     "text": [
      "Threshold value: 1\n",
      "Number of Outliers: 4\n",
      "------\n",
      "Threshold value: 2\n",
      "Number of Outliers: 2\n",
      "------\n",
      "Threshold value: 3\n",
      "Number of Outliers: 0\n",
      "------\n",
      "Threshold value: 4\n",
      "Number of Outliers: 0\n",
      "------\n"
     ]
    }
   ],
   "source": [
    "z_scores_possession_team2 = zscore(world_cup_df_possession[\"possession team1\"])\n",
    "for threshold in range(1,5):\n",
    "    print(\"Threshold value: {}\".format(threshold))\n",
    "    print(\"Number of Outliers: {}\".format(len((np.where(z_scores_possession_team2 > threshold)[0]))))\n",
    "    print('------')"
   ]
  },
  {
   "cell_type": "code",
   "execution_count": 56,
   "id": "50f70551-8bfc-4b6c-82d1-902301717ee1",
   "metadata": {},
   "outputs": [
    {
     "name": "stdout",
     "output_type": "stream",
     "text": [
      "Threshold value: 1\n",
      "Number of Outliers: 11\n",
      "------\n",
      "Threshold value: 2\n",
      "Number of Outliers: 2\n",
      "------\n",
      "Threshold value: 3\n",
      "Number of Outliers: 0\n",
      "------\n",
      "Threshold value: 4\n",
      "Number of Outliers: 0\n",
      "------\n"
     ]
    }
   ],
   "source": [
    "z_scores_possession_team2 = zscore(world_cup_df_possession[\"possession team2\"])\n",
    "for threshold in range(1,5):\n",
    "    print(\"Threshold value: {}\".format(threshold))\n",
    "    print(\"Number of Outliers: {}\".format(len((np.where(z_scores_possession_team2 > threshold)[0]))))\n",
    "    print('------')"
   ]
  },
  {
   "cell_type": "markdown",
   "id": "e19aeea6-bef7-41bb-8362-232a223847a4",
   "metadata": {
    "tags": []
   },
   "source": [
    "## Analyzing Relations"
   ]
  },
  {
   "cell_type": "markdown",
   "id": "bd99df63-9441-49e0-a5aa-07b58be25dc8",
   "metadata": {},
   "source": [
    "#### Multivariate Analysis"
   ]
  },
  {
   "cell_type": "code",
   "execution_count": 68,
   "id": "cffad4e7-5a38-4546-be63-4f36df554e60",
   "metadata": {},
   "outputs": [
    {
     "data": {
      "text/html": [
       "<div>\n",
       "<style scoped>\n",
       "    .dataframe tbody tr th:only-of-type {\n",
       "        vertical-align: middle;\n",
       "    }\n",
       "\n",
       "    .dataframe tbody tr th {\n",
       "        vertical-align: top;\n",
       "    }\n",
       "\n",
       "    .dataframe thead th {\n",
       "        text-align: right;\n",
       "    }\n",
       "</style>\n",
       "<table border=\"1\" class=\"dataframe\">\n",
       "  <thead>\n",
       "    <tr style=\"text-align: right;\">\n",
       "      <th></th>\n",
       "      <th>possession team1</th>\n",
       "      <th>possession team2</th>\n",
       "      <th>possession in contest</th>\n",
       "      <th>number of goals team1</th>\n",
       "      <th>number of goals team2</th>\n",
       "      <th>result</th>\n",
       "      <th>total goals</th>\n",
       "    </tr>\n",
       "  </thead>\n",
       "  <tbody>\n",
       "    <tr>\n",
       "      <th>possession team1</th>\n",
       "      <td>1.000000</td>\n",
       "      <td>-0.980322</td>\n",
       "      <td>-0.100235</td>\n",
       "      <td>0.264346</td>\n",
       "      <td>0.055033</td>\n",
       "      <td>0.078996</td>\n",
       "      <td>0.247328</td>\n",
       "    </tr>\n",
       "    <tr>\n",
       "      <th>possession team2</th>\n",
       "      <td>-0.980322</td>\n",
       "      <td>1.000000</td>\n",
       "      <td>-0.097210</td>\n",
       "      <td>-0.208867</td>\n",
       "      <td>-0.076160</td>\n",
       "      <td>-0.137265</td>\n",
       "      <td>-0.213647</td>\n",
       "    </tr>\n",
       "    <tr>\n",
       "      <th>possession in contest</th>\n",
       "      <td>-0.100235</td>\n",
       "      <td>-0.097210</td>\n",
       "      <td>1.000000</td>\n",
       "      <td>-0.284214</td>\n",
       "      <td>0.110817</td>\n",
       "      <td>0.305718</td>\n",
       "      <td>-0.171102</td>\n",
       "    </tr>\n",
       "    <tr>\n",
       "      <th>number of goals team1</th>\n",
       "      <td>0.264346</td>\n",
       "      <td>-0.208867</td>\n",
       "      <td>-0.284214</td>\n",
       "      <td>1.000000</td>\n",
       "      <td>0.018927</td>\n",
       "      <td>-0.561851</td>\n",
       "      <td>0.830058</td>\n",
       "    </tr>\n",
       "    <tr>\n",
       "      <th>number of goals team2</th>\n",
       "      <td>0.055033</td>\n",
       "      <td>-0.076160</td>\n",
       "      <td>0.110817</td>\n",
       "      <td>0.018927</td>\n",
       "      <td>1.000000</td>\n",
       "      <td>0.656016</td>\n",
       "      <td>0.573289</td>\n",
       "    </tr>\n",
       "    <tr>\n",
       "      <th>result</th>\n",
       "      <td>0.078996</td>\n",
       "      <td>-0.137265</td>\n",
       "      <td>0.305718</td>\n",
       "      <td>-0.561851</td>\n",
       "      <td>0.656016</td>\n",
       "      <td>1.000000</td>\n",
       "      <td>-0.094526</td>\n",
       "    </tr>\n",
       "    <tr>\n",
       "      <th>total goals</th>\n",
       "      <td>0.247328</td>\n",
       "      <td>-0.213647</td>\n",
       "      <td>-0.171102</td>\n",
       "      <td>0.830058</td>\n",
       "      <td>0.573289</td>\n",
       "      <td>-0.094526</td>\n",
       "      <td>1.000000</td>\n",
       "    </tr>\n",
       "  </tbody>\n",
       "</table>\n",
       "</div>"
      ],
      "text/plain": [
       "                       possession team1  possession team2  \\\n",
       "possession team1               1.000000         -0.980322   \n",
       "possession team2              -0.980322          1.000000   \n",
       "possession in contest         -0.100235         -0.097210   \n",
       "number of goals team1          0.264346         -0.208867   \n",
       "number of goals team2          0.055033         -0.076160   \n",
       "result                         0.078996         -0.137265   \n",
       "total goals                    0.247328         -0.213647   \n",
       "\n",
       "                       possession in contest  number of goals team1  \\\n",
       "possession team1                   -0.100235               0.264346   \n",
       "possession team2                   -0.097210              -0.208867   \n",
       "possession in contest               1.000000              -0.284214   \n",
       "number of goals team1              -0.284214               1.000000   \n",
       "number of goals team2               0.110817               0.018927   \n",
       "result                              0.305718              -0.561851   \n",
       "total goals                        -0.171102               0.830058   \n",
       "\n",
       "                       number of goals team2    result  total goals  \n",
       "possession team1                    0.055033  0.078996     0.247328  \n",
       "possession team2                   -0.076160 -0.137265    -0.213647  \n",
       "possession in contest               0.110817  0.305718    -0.171102  \n",
       "number of goals team1               0.018927 -0.561851     0.830058  \n",
       "number of goals team2               1.000000  0.656016     0.573289  \n",
       "result                              0.656016  1.000000    -0.094526  \n",
       "total goals                         0.573289 -0.094526     1.000000  "
      ]
     },
     "execution_count": 68,
     "metadata": {},
     "output_type": "execute_result"
    }
   ],
   "source": [
    "world_cup_df_possession.corr()"
   ]
  },
  {
   "cell_type": "markdown",
   "id": "8481fc21-762f-4e39-8e1e-6b22fe57bb20",
   "metadata": {},
   "source": [
    "**Note:** According to correlation analyses looks like there is no correlation between possession of team2 and goals scored by them. However, team1 is more related with possession and goals scored. Let's keep going"
   ]
  },
  {
   "cell_type": "code",
   "execution_count": 75,
   "id": "cf666730-fce0-43d5-83b2-1c627bff0932",
   "metadata": {},
   "outputs": [
    {
     "data": {
      "image/png": "[encoded data removed]",
      "text/plain": [
       "<Figure size 640x480 with 1 Axes>"
      ]
     },
     "metadata": {},
     "output_type": "display_data"
    }
   ],
   "source": [
    "plt.plot(world_cup_df_possession[\"possession team1\"], world_cup_df_possession[\"number of goals team1\"], 'bo')\n",
    "plt.plot(world_cup_df_possession[\"possession team2\"], world_cup_df_possession[\"number of goals team2\"], 'go')\n",
    "plt.show()"
   ]
  }
 ],
 "metadata": {
  "kernelspec": {
   "display_name": "Python 3 (ipykernel)",
   "language": "python",
   "name": "python3"
  },
  "language_info": {
   "codemirror_mode": {
    "name": "ipython",
    "version": 3
   },
   "file_extension": ".py",
   "mimetype": "text/x-python",
   "name": "python",
   "nbconvert_exporter": "python",
   "pygments_lexer": "ipython3",
   "version": "3.9.13"
  }
 },
 "nbformat": 4,
 "nbformat_minor": 5
}
